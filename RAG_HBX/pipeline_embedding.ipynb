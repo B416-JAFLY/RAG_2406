{
 "cells": [
  {
   "cell_type": "code",
   "execution_count": 1,
   "metadata": {},
   "outputs": [
    {
     "name": "stdout",
     "output_type": "stream",
     "text": [
      "Loaded 200 records.\n"
     ]
    }
   ],
   "source": [
    "#加载数据集\n",
    "import json\n",
    "\n",
    "data = []\n",
    "with open('../data/crag_data_200.jsonl', 'r') as file:\n",
    "    for line in file:\n",
    "        data.append(json.loads(line))\n",
    "\n",
    "print(f\"Loaded {len(data)} records.\")\n"
   ]
  },
  {
   "cell_type": "code",
   "execution_count": 2,
   "metadata": {},
   "outputs": [
    {
     "name": "stderr",
     "output_type": "stream",
     "text": [
      "/home/bangx/miniconda3/envs/RAG_2406/lib/python3.8/site-packages/tqdm/auto.py:21: TqdmWarning: IProgress not found. Please update jupyter and ipywidgets. See https://ipywidgets.readthedocs.io/en/stable/user_install.html\n",
      "  from .autonotebook import tqdm as notebook_tqdm\n"
     ]
    }
   ],
   "source": [
    "from transformers import AutoTokenizer, AutoModel\n",
    "import torch\n",
    "from chromadb import Documents, EmbeddingFunction, Embeddings\n",
    "from chromadb.utils import embedding_functions\n",
    "\n",
    "class MyEmbeddingFunction(EmbeddingFunction):\n",
    "    def __init__(self, model_name: str):\n",
    "        self.tokenizer = AutoTokenizer.from_pretrained(model_name)\n",
    "        self.model = AutoModel.from_pretrained(model_name)\n",
    "\n",
    "    def __call__(self, input: Documents) -> Embeddings:\n",
    "        inputs = self.tokenizer(input, return_tensors='pt', padding=True, truncation=True)\n",
    "        with torch.no_grad():\n",
    "            outputs = self.model(**inputs)\n",
    "        # Assuming the embeddings are in the last hidden state and taking the mean pooling\n",
    "        embeddings = outputs.last_hidden_state.mean(dim=1).cpu().numpy()\n",
    "        return embeddings.tolist()\n",
    "\n",
    "# 使用你的bge-small-en-v1.5模型创建自定义嵌入函数\n",
    "my_embedding_function = MyEmbeddingFunction(model_name=\"BAAI/bge-small-en-v1.5\")\n",
    "\n"
   ]
  },
  {
   "cell_type": "code",
   "execution_count": 3,
   "metadata": {},
   "outputs": [],
   "source": [
    "#创建数据库\n",
    "import chromadb\n",
    "\n",
    "# Initialize Chroma client\n",
    "# client = chromadb.Client()\n",
    "client = chromadb.PersistentClient(path=\"./chroma_pipeline\")\n",
    "# Create a new collection\n",
    "collection = client.create_collection(name=\"collection_embedding\", embedding_function=my_embedding_function)\n",
    "# collection = client.create_collection('crag_documents')\n"
   ]
  },
  {
   "cell_type": "code",
   "execution_count": 4,
   "metadata": {},
   "outputs": [],
   "source": [
    "from langchain_text_splitters import RecursiveCharacterTextSplitter\n",
    "text_splitter = RecursiveCharacterTextSplitter(\n",
    "    chunk_size=64, chunk_overlap=2, add_start_index=True\n",
    ")"
   ]
  },
  {
   "cell_type": "code",
   "execution_count": 5,
   "metadata": {},
   "outputs": [
    {
     "name": "stderr",
     "output_type": "stream",
     "text": [
      "Processing records: 100%|██████████| 200/200 [00:01<00:00, 164.90it/s]\n"
     ]
    }
   ],
   "source": [
    "# 准备并插入数据到Chroma\n",
    "from tqdm import tqdm\n",
    "\n",
    "documents = []\n",
    "metadatas = []\n",
    "ids = []\n",
    "\n",
    "for i, record in enumerate(tqdm(data, desc=\"Processing records\")):\n",
    "    query = record[\"query\"]\n",
    "    answer = record[\"answer\"]\n",
    "    search_results = record[\"search_results\"]\n",
    "    \n",
    "    # 创建一个包含query和answer的文档字符串，并添加search_results的内容\n",
    "    # document = query + \" \" + answer + \" \" + \" \".join([result[\"page_snippet\"] for result in search_results])\n",
    "    text = ''.join([result[\"page_snippet\"] for result in search_results])\n",
    "    doc=text_splitter.create_documents([text])\n",
    "    all_splits = text_splitter.split_documents(doc)\n",
    "    \n",
    "    # 遍历所有分块并分别添加到相应的列表中\n",
    "    for j, split in enumerate(all_splits):\n",
    "        documents.append(split.page_content)\n",
    "        metadatas.append({\n",
    "            \"query\": query,\n",
    "            \"answer\": answer,\n",
    "            \"split_index\": j\n",
    "        })\n",
    "        ids.append(f\"doc_{i}_split_{j}\")\n",
    "\n",
    "# 向集合中添加文档\n",
    "collection.add(\n",
    "    documents=documents,  # 自动处理分词、嵌入和索引\n",
    "    metadatas=metadatas,  # 可以根据这些元数据进行过滤\n",
    "    ids=ids  # 每个文档的唯一标识\n",
    ")\n",
    "\n",
    "print(\"Data has been inserted into Chroma.\")\n"
   ]
  },
  {
   "cell_type": "code",
   "execution_count": 8,
   "metadata": {},
   "outputs": [
    {
     "name": "stdout",
     "output_type": "stream",
     "text": [
      "Top 2 relevant documents:\n",
      "['can you tell me the original language of the pact? en In domestic politics, pacts are usually between two or more political parties or other organizations. ... Bretton Woods Pact made stable financial and commercial relations viable between United States, Canada, Western European countries, Australia, and Japan (after 1944) Kellogg–Briand Pact, a multilateral treaty against war (1928) London Debt Agreement between London and Germany was a debt relief pact (1953) London Pact between Italy and the ...In domestic politics, pacts are usually between two or more political parties or other organizations. ... Bretton Woods Pact made stable financial and commercial relations viable between United States, Canada, Western European countries, Australia, and Japan (after 1944) Kellogg–Briand Pact, a multilateral treaty against war (1928) London Debt Agreement between London and Germany was a debt relief pact (1953) London Pact between Italy and the Triple Entente (Great Britain, France, and Russia) (1915) Warsaw Pact of Eastern European communist countries, led by the Soviet Union (1955-1991) ... Look up pact in Wiktionary, the free dictionary. Molotov–Ribbentrop Pact between Germany and the Soviet Union (1939) ... Pact of the Triple Alliance which formed the basis of alliance between Empire of Brazil, Argentina and Uruguay against Paraguay A pact, from Latin pactum (\"something agreed upon\"), is a formal agreement between two or more parties. In international relations, pacts are usually between two or more sovereign states. In domestic politics, pacts are usually between two or more political parties or other organizations. London Pact between Italy and the Triple Entente (Great Britain, France, and Russia) (1915) Molotov–Ribbentrop Pact between Germany and the Soviet Union (1939) Pact definition: A pact is a formal agreement between two or more people, organizations, or governments to... | Meaning, pronunciation, translations and examplesLast month he signed a new non-aggression pact with the country. ... Read about the team of authors behind Collins Dictionaries. ... Drag the correct answer into the box. ... Drag the correct answer into the box. ... In fairy stories , elves are small magical beings who play tricks on people. ... Tolkien has shaped the English language through his work as an author and as an etymologist. Stalin signed a non-aggression pact with Nazi Germany in 1939. [+ with] The other two opposition parties cannot agree on an electoral pact between themselves. Synonyms: agreement, contract, alliance, treaty More Synonyms of pact · Collins COBUILD Advanced Learner’s Dictionary. Copyright © HarperCollins Publishers ... Collins English Dictionary. Copyright © HarperCollins Publishers · Word originC15: from Old French pacte, from Latin pactum, from pacīscī to agree Word origin [1400–50; late ME pact(e) ‹ MF ‹ L pactum, n. use of neut. of ptp. of pacīscī to make a bargain, contract] These examples have been automatically selected and may contain sensitive content that does not reflect the opinions or policies of Collins, or its parent company HarperCollins. Times, Sunday Times (2012)A positive result was not needed for the ratification of the fiscal pact. Times, Sunday Times (2012)But the report in La Repubblica suggested that the purported accord may be more of a mutual survival pact for two parties doing terribly in the polls. Pact definition: A pact is a formal agreement between two or more people, organizations, or governments to... | Meaning, pronunciation, translations and examplesLast month he signed a new non-aggression pact with the country. ... Read about the team of authors behind Collins Dictionaries. ... Drag the correct answer into the box. ... Drag the correct answer into the box. ... In fairy stories , elves are small magical beings who play tricks on people. ... Tolkien has shaped the English language through his work as an author and as an etymologist. Stalin signed a non-aggression pact with Nazi Germany in 1939. [+ with] The other two opposition parties cannot agree on an electoral pact between themselves. Synonyms: agreement, contract, alliance, treaty More Synonyms of pact · Collins COBUILD Advanced Learner’s Dictionary. Copyright © HarperCollins Publishers ... Collins English Dictionary. Copyright © HarperCollins Publishers · Word originC15: from Old French pacte, from Latin pactum, from pacīscī to agree Word origin [1400–50; late ME pact(e) ‹ MF ‹ L pactum, n. use of neut. of ptp. of pacīscī to make a bargain, contract] These examples have been automatically selected and may contain sensitive content that does not reflect the opinions or policies of Collins, or its parent company HarperCollins. Times, Sunday Times (2012)A positive result was not needed for the ratification of the fiscal pact. Times, Sunday Times (2012)But the report in La Repubblica suggested that the purported accord may be more of a mutual survival pact for two parties doing terribly in the polls. Note: One implications of this philosophy is that you cannot verify, using pact, that a key or a header will not be present in a response. You can only verify what is. ... The DSLs should be as similar as possible, within the idioms of the language, to the original Ruby wording to help create ...Note: One implications of this philosophy is that you cannot verify, using pact, that a key or a header will not be present in a response. You can only verify what is. ... The DSLs should be as similar as possible, within the idioms of the language, to the original Ruby wording to help create a consistent Pact experience, and minimise overhead when switching between languages. The DSLs should be as similar as possible, within the idioms of the language, to the original Ruby wording to help create a consistent Pact experience, and minimise overhead when switching between languages. The matching logic for the requests and responses should be the same so that we can have the same amount of confidence that the integrations will work in real life no matter what language the system was written and tested in. Describes the pact format and verification specifications - GitHub - pact-foundation/pact-specification: Describes the pact format and verification specifications The initial implementation was written in Ruby for Rack apps, however a consumer and provider may be implemented in different programming languages, so the \"mocking\" and the \"verifying\" steps would be best supported by libraries in their respective project\\'s native languages. Given that the pact file is written in JSON, it should be straightforward to implement a pact library in any language, however, to get the best experience and most reliability of out mixing pact libraries, the matching logic for the requests and responses needs to be identical. In domestic politics, pacts are usually between two or more political parties or other organizations. ... Bretton Woods Pact made stable financial and commercial relations viable between United States, Canada, Western European countries, Australia, and Japan (after 1944) Kellogg–Briand Pact, a multilateral treaty against war (1928) London Debt Agreement between London and Germany was a debt relief pact (1953) London Pact between Italy and the ...In domestic politics, pacts are usually between two or more political parties or other organizations. ... Bretton Woods Pact made stable financial and commercial relations viable between United States, Canada, Western European countries, Australia, and Japan (after 1944) Kellogg–Briand Pact, a multilateral treaty against war (1928) London Debt Agreement between London and Germany was a debt relief pact (1953) London Pact between Italy and the Triple Entente (Great Britain, France, and Russia) (1915) Warsaw Pact of Eastern European communist countries, led by the Soviet Union (1955-1991) ... Look up pact in Wiktionary, the free dictionary. Molotov–Ribbentrop Pact between Germany and the Soviet Union (1939) ... Pact of the Triple Alliance which formed the basis of alliance between Empire of Brazil, Argentina and Uruguay against Paraguay A pact, from Latin pactum (\"something agreed upon\"), is a formal agreement between two or more parties. In international relations, pacts are usually between two or more sovereign states. In domestic politics, pacts are usually between two or more political parties or other organizations. London Pact between Italy and the Triple Entente (Great Britain, France, and Russia) (1915) Molotov–Ribbentrop Pact between Germany and the Soviet Union (1939)', 'what is the symbol of the constellation that includes sirius? the greater dog In Agrippa&#x27;s second book, this symbol is actually given for Canis Major, the constellation that contains Sirius. Agrippa is using a medieval source text called De Quindecim Stellis (On the Fifteen Stars) which is attributed to Hermes and is on the magic of the fifteen &quot;fixed&quot; or &quot;Behenian&quot; stars. ... This is a translation that includes ...In Agrippa\\'s second book, this symbol is actually given for Canis Major, the constellation that contains Sirius. Agrippa is using a medieval source text called De Quindecim Stellis (On the Fifteen Stars) which is attributed to Hermes and is on the magic of the fifteen \"fixed\" or \"Behenian\" stars. ... This is a translation that includes multiple manuscripts. So, after reading De Quindecim Stellis, it seems the 15 symbols given in some manuscripts list the constellations but others list it as the largest star in that constellation. I think they can be used somewhat interchangeably. So It\\'s could stand for either Sirius or Canis Major, just like another one is listed as either Alcyone or the Pleiades, As for the construction, it is difficult to say. Usually Medieval texts are not particularly apt to break down the actual methods used for devising their symbols. Is the crescent moon at the tip of the symbol the star Sirius? Anything like that. ... So, after reading De Quindecim Stellis, it seems the 15 symbols given in some manuscripts list the constellations but others list it as the largest star in that constellation. 19 votes, 14 comments. 50K subscribers in the Symbology community. A subreddit for the discussion, identification, and appreciation of symbols… It has been asserted that Ovid and Vergil referred to Sirius in their Latrator Anubis, representing a jackal, or dog-headed Egyptian divinity, guardian of the visible horizon and of the solstices, transferred to Rome as goddess of the chase; but it is very doubtful whether they had in mind either star or constellation...In Chrysococca’s Tables the title is Siaer Iamane; and Doctor C. Edward Sachau’s translation of Al Biruni’s Chronology renders it Sirius Jemenicus. Riccioli had Halabor, which the 1515 Almagest applied to the constellation; and English writer on globes John Chilmead (circa 1639), Gabbar, Ecber, and Habor; while Shaari lobur, another {Page 122} queerly corrupted form, is found in Eber’s EgyptianPrincess. Aratos’ term poikilos, applied to the Dog (constellaton), is equally appropriate to Sirius now in the sense of many-colored or changeful, and is an admirable characterization, as one realizes when watching this magnificent object coming up from the horizon on a winter evening. Influences: Ptolemy states that the stars of this constellation, with the exception of Sirius, are like Venus. It is said to give good qualities, charity and a faithful heart, but violent and dangerous passions. There is some danger from, or fear of, darkness and the night, and liability to dog bites, though the latter characteristic is probably associated more particularly with Sirius. The Roman farmers sacrificed to it a fawn-colored dog at their three festivals when, in May, the sun began to approach Sirius. These, instituted 238 B.C., were the Robigalia, to secure the propitious influence of their goddess Robigo in averting rust and mildew from their fields; and the Floralia and Vinalia, to ensure the maturity of their blooming flowers, fruits and grapes. Among the Latins it naturally shared the constellation’s titles, probably originated them; and occasionally was even Canicula; indeed, as late as 1420 the Palladium of Husbandry urged certain farm-work to be done “Er the caniculere, the hounde ascende” and, more than a century later, Eden, in the Historic of the Vyage to Moscovie and Cathay, wrote: “Serius is otherwise called Canicula, this is the dogge, of whom the canicular days have their name.” February is perfect for both Northern Hemisphere and Southern Hemisphere observers to view the brightest star in the sky: Sirius. As part of the constellation Canis Major the Greater Dog, Sirius also earns the nickname of the Dog Star. From the Northern Hemisphere, Sirius arcs across in the ...February is perfect for both Northern Hemisphere and Southern Hemisphere observers to view the brightest star in the sky: Sirius. As part of the constellation Canis Major the Greater Dog, Sirius also earns the nickname of the Dog Star. From the Northern Hemisphere, Sirius arcs across in the southern sky. As part of the constellation Canis Major the Greater Dog, Sirius also earns the nickname of the Dog Star. From the Northern Hemisphere, Sirius arcs across in the southern sky. From the Southern Hemisphere, it swings high overhead. It’s always easy to spot as the brightest point of light in its region of sky (unless a planet happens to be near it, which none are in early 2024). Sirius is always easy to find. It’s the sky’s brightest star! Plus, anyone familiar with the constellation Orion can simply draw a line through Orion’s Belt to find this star. Sirius is roughly eight times as far from the Belt as the Belt is wide. Sirius is well known as the Dog Star, because it’s the chief star in the constellation Canis Major the Greater Dog. Have you ever heard anyone speak of the dog days of summer? Sirius is behind the sun as seen from Earth in Northern Hemisphere summer. In late summer, it appears in the east before sunrise, near the sun in our sky. Sirius (The Dog Star) is the brightest star in the night sky, attributed to its luminosity and proximity at a distance of 8.6 light-years.This constellation includes many popular deep-sky objects including: ... NGC 2359 (i.e. Thor’s Helmet) ... Sirius also forms the Winter Hexagon (or Winter Circle) asterism, which appears prominently in the northern sky between December and March and is also part of the Winter Triangle. According to NASA, Sirius’ mass is two times greater than the Earth’s sun and if placed next to the sun would outshine it by more than 20 times.  · Visual magnitude: -1.46 making it the brightest star in the night sky · Type: Binary star system including a main-sequence star and white dwarf star · Location: constellation Canis Major (i.e. the Dog Star) Type: Binary star system including a main-sequence star and white dwarf star · Location: constellation Canis Major (i.e. the Dog Star) ... Distance: 8.6 light-years (only twice the distance of the nearest known star system beyond the Sun, the Alpha Centauri system) All stars can appear to be twinkling or flicker as they shine through the Earth’s atmosphere with varying density, turbulent air, and particles. Sirius appears to twinkle/flicker more than other stars as it’s brightness exaggerates these atmospheric effects. Canis Major contains the following ten named stars: Adhara, Aludra, Amadioha, Atakoraka, Furud, Mirzam, Muliphein, Sirius, Unurgunite, and Wezen · This constellation includes many popular deep-sky objects including: Sirius, or Alpha Canis Major, is the brightest star in the sky and inspires wonder among stargazers. Learn how Sirius influenced ancient Egypt, as a symbol of natural cycles and femininity.Sirius has an apparent magnitude of -1.46. By comparison, the second brightest star in the sky is Canopus, appearing in the constellation Centaurus. Canopus’ apparent magnitude is -.72, roughly half as bright as Sirius. Sirius is 40 times brighter than our sun and is only 8.6 light years away, making it a close neighbor. Sirius is part of the constellation known as Canis Major, or the Big Dog. Interestingly enough, the constellation and star have been associated with dogs and wolves in many cultures all over the world. There are numerous reasons why this could be, but the most obvious is that Sirius seems to be following a great giant in the sky, Orion. The ancient Egyptians often associated Sirius with the goddess Isis, especially in its capacity as a signal that the Nile flood was on the way. The star could also be connected to Osiris, as well as Anubis and the goddess of Sirius, Sopdet, whose name means “she who is sharp.” She brought fertility to the soil and was the consort of the entity known as Sah, the constellation Orion. Although Sirius is visible for much of the year, my favorite time to view it and the spectacular constellations that surround it is from January to March. There’s nothing like going out on an icy, winter’s night and seeing the magnificent play, the celestial drama that takes place in the sky every night unfold, as it has for millennia. Whether viewed as Osiris, Orion, Isis, a wolf, or proof of interstellar travel, Sirius fills humanity with wonder.']\n"
     ]
    }
   ],
   "source": [
    "# 测试用例\n",
    "\n",
    "# 查询\n",
    "query = \"which is a better investment, gold or silver, when considering long-term return?\"\n",
    "\n",
    "# 执行查询，先筛选出包含query的所有文本块，再获取最相似的三个结果\n",
    "results = collection.query(\n",
    "    query_texts=[query],\n",
    "    n_results=96,\n",
    "    where={\"query\": query},  # 筛选包含该query的所有文本块\n",
    ")\n",
    "\n",
    "print(\"Top 3 relevant documents:\")\n",
    "context = \"\"\n",
    "for result in results['documents']:\n",
    "    for doc in result:  # 遍历列表中的每一个文档\n",
    "        print(doc)\n",
    "        context += doc + \"\\n\"\n",
    "\n",
    "print(\"Context:\")\n",
    "print(context)\n"
   ]
  },
  {
   "cell_type": "code",
   "execution_count": 6,
   "metadata": {},
   "outputs": [],
   "source": [
    "import requests\n",
    "# 设置百度API密钥\n",
    "API_KEY = \"r3eHPr2Da9rJa1yJpd5qCGy3\"\n",
    "SECRET_KEY = \"Wyi1aOmWcjt70roUhQS4v2GbOvmfGXHn\"\n",
    "\n",
    "def get_access_token():\n",
    "    \"\"\"\n",
    "    使用 API Key，Secret Key 获取access_token\n",
    "    \"\"\"\n",
    "    url = f\"https://aip.baidubce.com/oauth/2.0/token?grant_type=client_credentials&client_id={API_KEY}&client_secret={SECRET_KEY}\"\n",
    "    response = requests.post(url)\n",
    "    return response.json().get(\"access_token\")\n",
    "\n",
    "def call_baidu_chat_api(query, context):\n",
    "    access_token = get_access_token()\n",
    "    url = f\"https://aip.baidubce.com/rpc/2.0/ai_custom/v1/wenxinworkshop/chat/yi_34b_chat?access_token={access_token}\"\n",
    "    payload = json.dumps({\n",
    "        \"messages\": [\n",
    "            {\n",
    "                \"role\": \"user\",\n",
    "                \"content\": f\"You are an assistant for question-answering tasks. Use the following pieces of retrieved context to answer the question. If you don't know the answer, just say that you don't know. Answer in 2 to 3 sentences.\n",
    "                Context: {context}Question: {query}\"\n",
    "            }\n",
    "        ]\n",
    "    })\n",
    "    headers = {\n",
    "        'Content-Type': 'application/json'\n",
    "    }\n",
    "    response = requests.post(url, headers=headers, data=payload)\n",
    "    return response.json()"
   ]
  },
  {
   "cell_type": "code",
   "execution_count": 7,
   "metadata": {},
   "outputs": [
    {
     "name": "stdout",
     "output_type": "stream",
     "text": [
      "Response from Baidu API:\n",
      "{'id': 'as-zjqjgv5c5u', 'object': 'chat.completion', 'created': 1719217206, 'result': 'A: The first president of the United States was George Washington. He served two terms as president from 1789 to 1797. Washington is often referred to as the \"Father of His Country\" for his pivotal role in the founding of the United States. Before becoming president, he served as the commander-in-chief of the Continental Army during the American Revolutionary War and presided over the convention that drafted the U.S. Constitution.', 'is_truncated': False, 'need_clear_history': False, 'usage': {'prompt_tokens': 112, 'completion_tokens': 96, 'total_tokens': 208}}\n",
      "A: The first president of the United States was George Washington. He served two terms as president from 1789 to 1797. Washington is often referred to as the \"Father of His Country\" for his pivotal role in the founding of the United States. Before becoming president, he served as the commander-in-chief of the Continental Army during the American Revolutionary War and presided over the convention that drafted the U.S. Constitution.\n"
     ]
    }
   ],
   "source": [
    "# 测试用例\n",
    "query = \"Who was the first president of the United States?\"\n",
    "context = \"\"\"\n",
    "The first president of the United States was George Washington. He served two terms as president from 1789 to 1797. Washington is often referred to as the \"Father of His Country\" for his pivotal role in the founding of the United States. Before becoming president, he served as the commander-in-chief of the Continental Army during the American Revolutionary War and presided over the convention that drafted the U.S. Constitution.\n",
    "\"\"\"\n",
    "# 调用百度API获取答案\n",
    "response = call_baidu_chat_api(query, context)\n",
    "print(\"Response from Baidu API:\")\n",
    "print(response)\n",
    "if \"result\" in response and response[\"result\"]:\n",
    "    print(response[\"result\"])"
   ]
  },
  {
   "cell_type": "code",
   "execution_count": null,
   "metadata": {},
   "outputs": [],
   "source": [
    "def query_database(query):\n",
    "    results = collection.query(\n",
    "    query_texts=[query],\n",
    "    n_results=96,\n",
    "    where={\"query\": query},  # 筛选包含该query的所有文本块\n",
    "                        )\n",
    "    context = \"\"\n",
    "    for result in results['documents']:\n",
    "        for doc in result:  # 遍历列表中的每一个文档\n",
    "            context += doc + \"\\n\"\n",
    "\n",
    "    return context"
   ]
  },
  {
   "cell_type": "code",
   "execution_count": null,
   "metadata": {},
   "outputs": [],
   "source": [
    "#测试用例，先问它个5回\n",
    "for i, record in enumerate(tqdm(data, desc=\"Processing records\")):\n",
    "    query = record[\"query\"]\n",
    "    answer = record[\"answer\"]\n",
    "    search_results = record[\"search_results\"]\n",
    "    context = query_database(query)\n",
    "    response = call_baidu_chat_api(query, context)\n",
    "    print(f\"Query: {query}\")\n",
    "    print(f\"Answer: {answer}\")\n",
    "    pred = response['result']\n",
    "    print(f\"Response from Baidu API: {pred}\")\n",
    "    if i > 5:\n",
    "        break"
   ]
  },
  {
   "cell_type": "code",
   "execution_count": null,
   "metadata": {},
   "outputs": [],
   "source": [
    "result = []\n",
    "for i, record in enumerate(tqdm(data, desc=\"Processing records\")):\n",
    "    query = record[\"query\"]\n",
    "    answer = record[\"answer\"]\n",
    "    search_results = record[\"search_results\"]\n",
    "    context = query_database(query)\n",
    "    response = call_baidu_chat_api(query, context)\n",
    "    pred = response['result']\n",
    "    result.append(json.dumps({'query': query, 'answer': answer, 'pred': pred}, ensure_ascii=False) + '\\n')\n",
    "with open(\"../data/baidu_chat_results.jsonl\", 'w', encoding='utf-8') as f:\n",
    "    f.write(''.join(result))"
   ]
  },
  {
   "cell_type": "code",
   "execution_count": null,
   "metadata": {},
   "outputs": [],
   "source": [
    "def continue_processing(data, target_file='../data/baidu_chat_results.jsonl'):\n",
    "    # 检查目标文件的目录是否存在，不存在则创建\n",
    "    target_dir = os.path.dirname(target_file)\n",
    "    if not os.path.exists(target_dir):\n",
    "        os.makedirs(target_dir)\n",
    "\n",
    "    # 读取已有文件的行数，确定从哪一行开始继续处理\n",
    "    if os.path.exists(target_file):\n",
    "        with open(target_file, 'r', encoding='utf-8') as f:\n",
    "            processed_lines = len(f.readlines())\n",
    "    else:\n",
    "        processed_lines = 0\n",
    "\n",
    "    result = []\n",
    "    for i, record in enumerate(tqdm(data[processed_lines:], desc=\"Processing records\", initial=processed_lines, total=len(data))):\n",
    "        query = record[\"query\"]\n",
    "        answer = record[\"answer\"]\n",
    "        search_results = record[\"search_results\"]\n",
    "        context = query_database(query)\n",
    "        response = call_baidu_chat_api(query, context)\n",
    "        if 'result' in response:\n",
    "            pred = response['result']\n",
    "        else:\n",
    "            print(f\"Missing 'result' key in response for query: {query}\")\n",
    "            pred = None\n",
    "        result.append(json.dumps({'query': query, 'answer': answer, 'pred': pred}, ensure_ascii=False) + '\\n')\n",
    "\n",
    "        # 每处理一条记录就立即写入文件，防止中途出错数据丢失\n",
    "        with open(target_file, 'a', encoding='utf-8') as f:\n",
    "            f.write(result[-1])"
   ]
  },
  {
   "cell_type": "code",
   "execution_count": null,
   "metadata": {},
   "outputs": [],
   "source": [
    "import os\n",
    "continue_processing(data)"
   ]
  }
 ],
 "metadata": {
  "kernelspec": {
   "display_name": "RAG_2406",
   "language": "python",
   "name": "python3"
  },
  "language_info": {
   "codemirror_mode": {
    "name": "ipython",
    "version": 3
   },
   "file_extension": ".py",
   "mimetype": "text/x-python",
   "name": "python",
   "nbconvert_exporter": "python",
   "pygments_lexer": "ipython3",
   "version": "3.8.19"
  }
 },
 "nbformat": 4,
 "nbformat_minor": 2
}
