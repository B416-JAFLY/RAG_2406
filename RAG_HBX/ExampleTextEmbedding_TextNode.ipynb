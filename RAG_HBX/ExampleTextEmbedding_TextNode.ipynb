{
 "cells": [
  {
   "cell_type": "code",
   "id": "2db46209a17c0ce1",
   "metadata": {
    "collapsed": true,
    "ExecuteTime": {
     "end_time": "2024-06-04T06:40:01.975352Z",
     "start_time": "2024-06-04T06:40:00.044840Z"
    }
   },
   "source": [
    "import os\n",
    "import chromadb\n",
    "from langchain_text_splitters import RecursiveCharacterTextSplitter"
   ],
   "outputs": [],
   "execution_count": 1
  },
  {
   "metadata": {},
   "cell_type": "raw",
   "source": "将文档以文本块（chunk）的形式存储在ChromaDB中",
   "id": "ca41c732e016552d"
  },
  {
   "metadata": {
    "ExecuteTime": {
     "end_time": "2024-06-04T06:40:06.073618Z",
     "start_time": "2024-06-04T06:40:06.058772Z"
    }
   },
   "cell_type": "code",
   "source": [
    "# 1. 读取文档\n",
    "with open(os.path.join('../data', 'Elon.txt'), 'r') as f:\n",
    "    text = f.read()"
   ],
   "id": "49afea35c8868946",
   "outputs": [],
   "execution_count": 2
  },
  {
   "metadata": {
    "ExecuteTime": {
     "end_time": "2024-06-04T06:40:06.949320Z",
     "start_time": "2024-06-04T06:40:06.930916Z"
    }
   },
   "cell_type": "code",
   "source": [
    "# 2. 初始化解析器\n",
    "text_splitter = RecursiveCharacterTextSplitter(\n",
    "    chunk_size=64, chunk_overlap=2, add_start_index=True\n",
    ")"
   ],
   "id": "3d6a4338d8093fc6",
   "outputs": [],
   "execution_count": 3
  },
  {
   "metadata": {
    "ExecuteTime": {
     "end_time": "2024-06-04T06:40:07.824123Z",
     "start_time": "2024-06-04T06:40:07.773295Z"
    }
   },
   "cell_type": "code",
   "source": [
    "# 3. 将文档解析为文本节点\n",
    "doc=text_splitter.create_documents([text])\n",
    "all_splits = text_splitter.split_documents(doc)\n",
    "print(len(all_splits))\n",
    "print(all_splits[0])"
   ],
   "id": "2d71364ad078ea45",
   "outputs": [
    {
     "name": "stdout",
     "output_type": "stream",
     "text": [
      "53\n",
      "page_content='Elon Reeve Musk (/ˈiːlɒn/ EE-lon; born June 28, 1971) is a' metadata={'start_index': 0}\n"
     ]
    }
   ],
   "execution_count": 4
  },
  {
   "metadata": {
    "ExecuteTime": {
     "end_time": "2024-06-04T06:40:21.484454Z",
     "start_time": "2024-06-04T06:40:21.373042Z"
    }
   },
   "cell_type": "code",
   "source": [
    "# 4. 初始化ChromaDB客户端\n",
    "client = chromadb.PersistentClient(path=\"./chromaDemo\")\n",
    "collection = client.get_collection(name=\"ExampleText\")"
   ],
   "id": "220f96ef533480f9",
   "outputs": [],
   "execution_count": 5
  },
  {
   "metadata": {
    "ExecuteTime": {
     "end_time": "2024-06-04T06:40:23.979341Z",
     "start_time": "2024-06-04T06:40:23.976100Z"
    }
   },
   "cell_type": "code",
   "source": [
    "# 5. 准备文本块和元数据\n",
    "texts = [split.page_content for split in all_splits]\n",
    "metadatas = [split.metadata for split in all_splits]\n",
    "ids = [f\"node_{i}\" for i in range(len(all_splits))]"
   ],
   "id": "33ac88c26de50429",
   "outputs": [],
   "execution_count": 6
  },
  {
   "metadata": {},
   "cell_type": "code",
   "outputs": [],
   "execution_count": null,
   "source": [
    "# 6. 添加文本块到ChromaDB\n",
    "collection.add(\n",
    "    documents=texts,\n",
    "    metadatas=metadatas,\n",
    "    ids=ids,\n",
    ")"
   ],
   "id": "6c9752a8723591c6"
  },
  {
   "metadata": {
    "ExecuteTime": {
     "end_time": "2024-06-04T06:45:17.705073Z",
     "start_time": "2024-06-04T06:45:17.513217Z"
    }
   },
   "cell_type": "code",
   "source": [
    "# 7. 查询文本块\n",
    "results = collection.query(\n",
    "    query_texts=[\"When did Musk establish xAI\"],\n",
    "    n_results=2,\n",
    "    # where={\"metadata_field\": \"is_equal_to_this\"}, # 可选过滤器\n",
    "    # where_document={\"$contains\":\"search_string\"}  # 可选过滤器\n",
    ")\n",
    "print(results)\n",
    "for document in results['documents']:\n",
    "    for document_ in document:\n",
    "        print(document_)  "
   ],
   "id": "initial_id",
   "outputs": [
    {
     "name": "stdout",
     "output_type": "stream",
     "text": [
      "{'ids': [['node_43', 'node_20']], 'distances': [[0.3531293511338359, 0.7765314052605274]], 'metadatas': [[{'start_index': 0}, {'start_index': 0}]], 'embeddings': None, 'documents': [['March 2023, Musk founded xAI, an artificial intelligence', 'year, Musk co-founded X.com, a direct bank. X.com merged with']], 'uris': None, 'data': None}\n",
      "March 2023, Musk founded xAI, an artificial intelligence\n",
      "year, Musk co-founded X.com, a direct bank. X.com merged with\n"
     ]
    }
   ],
   "execution_count": 14
  },
  {
   "metadata": {},
   "cell_type": "code",
   "outputs": [],
   "execution_count": null,
   "source": "",
   "id": "6260a97044926bfb"
  }
 ],
 "metadata": {
  "kernelspec": {
   "display_name": "Python 3",
   "language": "python",
   "name": "python3"
  },
  "language_info": {
   "codemirror_mode": {
    "name": "ipython",
    "version": 2
   },
   "file_extension": ".py",
   "mimetype": "text/x-python",
   "name": "python",
   "nbconvert_exporter": "python",
   "pygments_lexer": "ipython2",
   "version": "2.7.6"
  }
 },
 "nbformat": 4,
 "nbformat_minor": 5
}
